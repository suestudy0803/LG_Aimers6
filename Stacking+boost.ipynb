{
 "cells": [
  {
   "cell_type": "code",
   "execution_count": 207,
   "metadata": {},
   "outputs": [
    {
     "name": "stdout",
     "output_type": "stream",
     "text": [
      "Requirement already satisfied: xgboost in c:\\users\\suest\\anaconda3\\lib\\site-packages (2.1.4)\n",
      "Requirement already satisfied: numpy in c:\\users\\suest\\anaconda3\\lib\\site-packages (from xgboost) (1.26.4)\n",
      "Requirement already satisfied: scipy in c:\\users\\suest\\anaconda3\\lib\\site-packages (from xgboost) (1.13.1)\n",
      "Note: you may need to restart the kernel to use updated packages.\n"
     ]
    }
   ],
   "source": [
    "pip install xgboost"
   ]
  },
  {
   "cell_type": "code",
   "execution_count": 208,
   "metadata": {},
   "outputs": [
    {
     "name": "stdout",
     "output_type": "stream",
     "text": [
      "Requirement already satisfied: torch in c:\\users\\suest\\anaconda3\\lib\\site-packages (2.6.0)\n",
      "Requirement already satisfied: filelock in c:\\users\\suest\\anaconda3\\lib\\site-packages (from torch) (3.13.1)\n",
      "Requirement already satisfied: typing-extensions>=4.10.0 in c:\\users\\suest\\anaconda3\\lib\\site-packages (from torch) (4.11.0)\n",
      "Requirement already satisfied: networkx in c:\\users\\suest\\anaconda3\\lib\\site-packages (from torch) (3.3)\n",
      "Requirement already satisfied: jinja2 in c:\\users\\suest\\anaconda3\\lib\\site-packages (from torch) (3.1.4)\n",
      "Requirement already satisfied: fsspec in c:\\users\\suest\\anaconda3\\lib\\site-packages (from torch) (2024.6.1)\n",
      "Requirement already satisfied: setuptools in c:\\users\\suest\\anaconda3\\lib\\site-packages (from torch) (75.1.0)\n",
      "Requirement already satisfied: sympy==1.13.1 in c:\\users\\suest\\anaconda3\\lib\\site-packages (from torch) (1.13.1)\n",
      "Requirement already satisfied: mpmath<1.4,>=1.1.0 in c:\\users\\suest\\anaconda3\\lib\\site-packages (from sympy==1.13.1->torch) (1.3.0)\n",
      "Requirement already satisfied: MarkupSafe>=2.0 in c:\\users\\suest\\anaconda3\\lib\\site-packages (from jinja2->torch) (2.1.3)\n",
      "Note: you may need to restart the kernel to use updated packages.\n"
     ]
    }
   ],
   "source": [
    "pip install torch"
   ]
  },
  {
   "cell_type": "code",
   "execution_count": 209,
   "metadata": {},
   "outputs": [],
   "source": [
    "import pandas as pd\n",
    "import numpy as np\n",
    "\n",
    "from sklearn.preprocessing import OrdinalEncoder\n",
    "from sklearn.ensemble import ExtraTreesClassifier\n",
    "\n",
    "from sklearn.model_selection import cross_val_score\n",
    "from sklearn.model_selection import train_test_split\n",
    "from sklearn.metrics import accuracy_score, roc_auc_score\n",
    "\n",
    "\n",
    "import torch\n",
    "import torch.nn as nn\n",
    "import torch.optim as optim\n",
    "from torch.utils.data import DataLoader, TensorDataset\n",
    "\n",
    "from sklearn.preprocessing import StandardScaler, OrdinalEncoder\n",
    "from imblearn.over_sampling import SMOTE\n"
   ]
  },
  {
   "cell_type": "markdown",
   "metadata": {},
   "source": [
    "# Data Load"
   ]
  },
  {
   "cell_type": "code",
   "execution_count": 210,
   "metadata": {},
   "outputs": [],
   "source": [
    "#Data Load\n",
    "train = pd.read_csv('original_data\\\\train_modified(회).csv').drop(columns=['ID'])\n",
    "test = pd.read_csv('original_data\\\\test_modified(회).csv').drop(columns=['ID'])\n",
    "\n",
    "\n"
   ]
  },
  {
   "cell_type": "markdown",
   "metadata": {},
   "source": [
    "# Feature Engineering(나이 중요성 강조)"
   ]
  },
  {
   "cell_type": "code",
   "execution_count": 211,
   "metadata": {},
   "outputs": [
    {
     "data": {
      "text/plain": [
       "'(4)\\nmapping = {\\n    \\'만18-34세\\': \"young\",\\n    \\'만35-37세\\': \"young\",\\n    \\'만38-39세\\': \"middle\",\\n    \\'만40-42세\\': \"middle\",\\n    \\'만43-44세\\': \"old\",\\n    \\'만45-50세\\': \"old\",\\n    \\'알 수 없음\\': np.nan\\n}\\n\\n# train, test 데이터프레임에 대해 기존의 \\'시술 당시 나이\\' 컬럼은 그대로 두고,\\n# 매핑 결과를 새로운 컬럼 \\'시술 당시 나이_numeric\\'에 저장합니다.\\nfor df in [train, test]:\\n    df[\\'시술 당시 나이3\\'] = df[\\'시술 당시 나이\\'].map(mapping)'"
      ]
     },
     "execution_count": 211,
     "metadata": {},
     "output_type": "execute_result"
    }
   ],
   "source": [
    "# (1) 나이 구간 생성\n",
    "\n",
    "mapping = {\n",
    "    '만18-34세': 26,\n",
    "    '만35-37세': 36,\n",
    "    '만38-39세': 38.5,\n",
    "    '만40-42세': 41,\n",
    "    '만43-44세': 43.5,\n",
    "    '만45-50세': 47.5,\n",
    "    '알 수 없음': np.nan\n",
    "}\n",
    "\n",
    "# train, test 데이터프레임에 대해 기존의 '시술 당시 나이' 컬럼은 그대로 두고,\n",
    "# 매핑 결과를 새로운 컬럼 '시술 당시 나이_numeric'에 저장합니다.\n",
    "for df in [train, test]:\n",
    "    df['시술 당시 나이2'] = df['시술 당시 나이'].map(mapping)\n",
    "\n",
    "\n",
    "\n",
    "\n",
    "# (2) 다항식 항 생성 (제곱, 세제곱)\n",
    "for df in [train, test]:\n",
    "    df['age_squared'] = df['시술 당시 나이2'] ** 2\n",
    "    df['age_cubed'] = df['시술 당시 나이2'] ** 3\n",
    "\n",
    "\n",
    "# (3) 임계값 기반 이진 변수 (예: 35세 이상을 Advanced Maternal Age로 지정)\n",
    "advanced_age_categories = ['만35-37세', '만38-39세', '만40-42세', '만43-44세', '만45-50세']\n",
    "\n",
    "for df in [train, test]:\n",
    "    df['30대 이상'] = df['시술 당시 나이'].isin(advanced_age_categories).astype(int)\n",
    "\n",
    "'''# (4) \n",
    "for df in [train, test]:\n",
    "    df[\"배아 이식 비율\"] = df[\"이식된 배아 수\"] / (df[\"총 생성 배아 수\"] + 1)'''\n",
    "   \n",
    "'''(4)\n",
    "mapping = {\n",
    "    '만18-34세': \"young\",\n",
    "    '만35-37세': \"young\",\n",
    "    '만38-39세': \"middle\",\n",
    "    '만40-42세': \"middle\",\n",
    "    '만43-44세': \"old\",\n",
    "    '만45-50세': \"old\",\n",
    "    '알 수 없음': np.nan\n",
    "}\n",
    "\n",
    "# train, test 데이터프레임에 대해 기존의 '시술 당시 나이' 컬럼은 그대로 두고,\n",
    "# 매핑 결과를 새로운 컬럼 '시술 당시 나이_numeric'에 저장합니다.\n",
    "for df in [train, test]:\n",
    "    df['시술 당시 나이3'] = df['시술 당시 나이'].map(mapping)'''\n",
    "\n"
   ]
  },
  {
   "cell_type": "markdown",
   "metadata": {},
   "source": [
    "# Feature Engineering(새로운 시술 유형)"
   ]
  },
  {
   "cell_type": "code",
   "execution_count": 212,
   "metadata": {},
   "outputs": [
    {
     "name": "stdout",
     "output_type": "stream",
     "text": [
      "  시술 시기 코드 시술 당시 나이  임신 시도 또는 마지막 임신 경과 연수 시술 유형 특정 시술 유형  배란 자극 여부  \\\n",
      "0   TRZKPL  만18-34세                    NaN   IVF     ICSI         1   \n",
      "1   TRYBLT  만45-50세                    NaN   IVF     ICSI         0   \n",
      "2   TRVNRY  만18-34세                    NaN   IVF      IVF         1   \n",
      "3   TRJXFG  만35-37세                    NaN   IVF     ICSI         1   \n",
      "4   TRVNRY  만18-34세                    NaN   IVF     ICSI         1   \n",
      "\n",
      "     배란 유도 유형  단일 배아 이식 여부  착상 전 유전 검사 사용 여부  착상 전 유전 진단 사용 여부  ...  \\\n",
      "0  기록되지 않은 시행          0.0               NaN               0.0  ...   \n",
      "1      알 수 없음          0.0               NaN               0.0  ...   \n",
      "2  기록되지 않은 시행          0.0               NaN               0.0  ...   \n",
      "3  기록되지 않은 시행          0.0               NaN               0.0  ...   \n",
      "4  기록되지 않은 시행          0.0               NaN               0.0  ...   \n",
      "\n",
      "   난자 해동 경과일  난자 혼합 경과일  배아 이식 경과일  배아 해동 경과일  임신 성공 여부  시술 당시 나이2  \\\n",
      "0        NaN        0.0        3.0        NaN         0       26.0   \n",
      "1        NaN        0.0        NaN        NaN         0       47.5   \n",
      "2        NaN        0.0        2.0        NaN         0       26.0   \n",
      "3        NaN        0.0        NaN        NaN         0       36.0   \n",
      "4        NaN        0.0        3.0        NaN         0       26.0   \n",
      "\n",
      "   age_squared   age_cubed  30대 이상    새로운_시술  \n",
      "0       676.00   17576.000       0  IVF_ICSI  \n",
      "1      2256.25  107171.875       1  IVF_ICSI  \n",
      "2       676.00   17576.000       0   IVF_IVF  \n",
      "3      1296.00   46656.000       1  IVF_ICSI  \n",
      "4       676.00   17576.000       0  IVF_ICSI  \n",
      "\n",
      "[5 rows x 73 columns]\n",
      "  시술 시기 코드 시술 당시 나이  임신 시도 또는 마지막 임신 경과 연수 시술 유형 특정 시술 유형  배란 자극 여부  \\\n",
      "0   TRZKPL  만18-34세                    NaN   IVF     ICSI         1   \n",
      "1   TRYBLT  만45-50세                    NaN   IVF     ICSI         0   \n",
      "2   TRVNRY  만18-34세                    NaN   IVF      IVF         1   \n",
      "3   TRJXFG  만35-37세                    NaN   IVF     ICSI         1   \n",
      "4   TRVNRY  만18-34세                    NaN   IVF     ICSI         1   \n",
      "\n",
      "     배란 유도 유형  단일 배아 이식 여부  착상 전 유전 검사 사용 여부  착상 전 유전 진단 사용 여부  ...  \\\n",
      "0  기록되지 않은 시행          0.0               NaN               0.0  ...   \n",
      "1      알 수 없음          0.0               NaN               0.0  ...   \n",
      "2  기록되지 않은 시행          0.0               NaN               0.0  ...   \n",
      "3  기록되지 않은 시행          0.0               NaN               0.0  ...   \n",
      "4  기록되지 않은 시행          0.0               NaN               0.0  ...   \n",
      "\n",
      "   난자 해동 경과일  난자 혼합 경과일  배아 이식 경과일  배아 해동 경과일  임신 성공 여부  시술 당시 나이2  \\\n",
      "0        NaN        0.0        3.0        NaN         0       26.0   \n",
      "1        NaN        0.0        NaN        NaN         0       47.5   \n",
      "2        NaN        0.0        2.0        NaN         0       26.0   \n",
      "3        NaN        0.0        NaN        NaN         0       36.0   \n",
      "4        NaN        0.0        3.0        NaN         0       26.0   \n",
      "\n",
      "   age_squared   age_cubed  30대 이상    새로운_시술  \n",
      "0       676.00   17576.000       0  IVF_ICSI  \n",
      "1      2256.25  107171.875       1  IVF_ICSI  \n",
      "2       676.00   17576.000       0   IVF_IVF  \n",
      "3      1296.00   46656.000       1  IVF_ICSI  \n",
      "4       676.00   17576.000       0  IVF_ICSI  \n",
      "\n",
      "[5 rows x 73 columns]\n"
     ]
    }
   ],
   "source": [
    "train['clean_시술_유형'] = train['시술 유형'].str.replace(r'[^A-Za-z0-9가-힣\\s]', '', regex=True)\n",
    "train['clean_특정_시술_유형'] = train['특정 시술 유형'].str.replace(r'[^A-Za-z0-9가-힣\\s]', '', regex=True)\n",
    "\n",
    "# 3. 두 열을 \"_\" 구분자로 결합하여 새로운 피처 생성\n",
    "train['새로운_시술'] = train['clean_시술_유형'] + '_' + train['clean_특정_시술_유형']\n",
    "\n",
    "train.drop(columns=['clean_시술_유형'], inplace=True)\n",
    "train.drop(columns=['clean_특정_시술_유형'], inplace=True)\n",
    "\n",
    "\n",
    "# 4. 결과 확인 (상위 6개 행 출력)\n",
    "print(train.head())\n",
    "\n",
    "test['clean_시술_유형'] = test['시술 유형'].str.replace(r'[^A-Za-z0-9가-힣\\s]', '', regex=True)\n",
    "test['clean_특정_시술_유형'] = test['특정 시술 유형'].str.replace(r'[^A-Za-z0-9가-힣\\s]', '', regex=True)\n",
    "\n",
    "# 3. 두 열을 \"_\" 구분자로 결합하여 새로운 피처 생성\n",
    "test['새로운_시술'] = test['clean_시술_유형'] + '_' + test['clean_특정_시술_유형']\n",
    "\n",
    "test.drop(columns=['clean_시술_유형'], inplace=True)\n",
    "test.drop(columns=['clean_특정_시술_유형'], inplace=True)\n",
    "\n",
    "\n",
    "# 4. 결과 확인 (상위 6개 행 출력)\n",
    "print(train.head())"
   ]
  },
  {
   "cell_type": "markdown",
   "metadata": {},
   "source": [
    "# Bining - 총 배아 생성 수"
   ]
  },
  {
   "cell_type": "markdown",
   "metadata": {},
   "source": [
    "# 결측치 처리"
   ]
  },
  {
   "cell_type": "code",
   "execution_count": 213,
   "metadata": {},
   "outputs": [],
   "source": [
    "train['배란 유도 유형'].value_counts()\n",
    "test['배란 유도 유형'].value_counts()\n",
    "\n",
    "\n",
    "\n",
    "train = train.drop('배란 유도 유형', axis=1)\n",
    "test= test.drop('배란 유도 유형', axis=1)\n",
    "\n",
    "#배란 유도 유형 삭제 "
   ]
  },
  {
   "cell_type": "code",
   "execution_count": 214,
   "metadata": {},
   "outputs": [
    {
     "name": "stdout",
     "output_type": "stream",
     "text": [
      "                       missing_values\n",
      "임신 시도 또는 마지막 임신 경과 연수          246981\n",
      "착상 전 유전 검사 사용 여부               253633\n",
      "PGD 시술 여부                      254172\n",
      "PGS 시술 여부                      254422\n",
      "난자 해동 경과일                      254915\n",
      "배아 해동 경과일                      215982\n"
     ]
    }
   ],
   "source": [
    "#결측치가 많은 columns 확인후 수동으로 삭제함 \n",
    "missing_counts = train.isnull().sum().to_frame(name=\"missing_values\")\n",
    "filtered_columns = missing_counts[missing_counts[\"missing_values\"] >= 190000]\n",
    "print(filtered_columns)\n",
    "\n",
    "#train update\n",
    "train = train.drop(filtered_columns.index, axis=1)\n",
    "test = test.drop(filtered_columns.index, axis=1)"
   ]
  },
  {
   "cell_type": "markdown",
   "metadata": {},
   "source": [
    "# Multi one hot code"
   ]
  },
  {
   "cell_type": "code",
   "execution_count": 215,
   "metadata": {},
   "outputs": [
    {
     "data": {
      "text/plain": [
       "배아 생성 주요 이유\n",
       "현재 시술용                 233732\n",
       "배아 저장용                   9192\n",
       "기증용, 현재 시술용              3784\n",
       "난자 저장용                   1959\n",
       "기증용                      1108\n",
       "기증용, 배아 저장용               125\n",
       "배아 저장용, 현재 시술용             83\n",
       "기증용, 난자 저장용                44\n",
       "기증용, 배아 저장용, 현재 시술용        20\n",
       "난자 저장용, 배아 저장용              6\n",
       "난자 저장용, 현재 시술용              5\n",
       "연구용, 현재 시술용                 1\n",
       "난자 저장용, 배아 저장용, 연구용         1\n",
       "Name: count, dtype: int64"
      ]
     },
     "execution_count": 215,
     "metadata": {},
     "output_type": "execute_result"
    }
   ],
   "source": [
    "train['배아 생성 주요 이유'].value_counts()"
   ]
  },
  {
   "cell_type": "code",
   "execution_count": 216,
   "metadata": {},
   "outputs": [
    {
     "data": {
      "text/plain": [
       "시술 시기 코드         0\n",
       "시술 당시 나이         0\n",
       "시술 유형            0\n",
       "특정 시술 유형         2\n",
       "배란 자극 여부         0\n",
       "              ... \n",
       "시술 당시 나이2      329\n",
       "age_squared    329\n",
       "age_cubed      329\n",
       "30대 이상           0\n",
       "새로운_시술           2\n",
       "Length: 66, dtype: int64"
      ]
     },
     "execution_count": 216,
     "metadata": {},
     "output_type": "execute_result"
    }
   ],
   "source": [
    "train.isnull().sum()"
   ]
  },
  {
   "cell_type": "code",
   "execution_count": 217,
   "metadata": {},
   "outputs": [
    {
     "data": {
      "text/plain": [
       "0         현재 시술용\n",
       "1         현재 시술용\n",
       "2         현재 시술용\n",
       "3         현재 시술용\n",
       "4         현재 시술용\n",
       "           ...  \n",
       "256346    현재 시술용\n",
       "256347    현재 시술용\n",
       "256348    현재 시술용\n",
       "256349    현재 시술용\n",
       "256350    현재 시술용\n",
       "Name: 배아 생성 주요 이유, Length: 256351, dtype: object"
      ]
     },
     "execution_count": 217,
     "metadata": {},
     "output_type": "execute_result"
    }
   ],
   "source": [
    "train['배아 생성 주요 이유']"
   ]
  },
  {
   "cell_type": "code",
   "execution_count": 218,
   "metadata": {},
   "outputs": [
    {
     "name": "stdout",
     "output_type": "stream",
     "text": [
      "결측치 개수 (train): 0\n",
      "결측치 개수 (test): 0\n",
      "최빈값 (train): 현재 시술용\n",
      "최빈값 (test): 현재 시술용\n"
     ]
    },
    {
     "name": "stderr",
     "output_type": "stream",
     "text": [
      "C:\\Users\\suest\\AppData\\Local\\Temp\\ipykernel_24468\\3703942154.py:7: FutureWarning: A value is trying to be set on a copy of a DataFrame or Series through chained assignment using an inplace method.\n",
      "The behavior will change in pandas 3.0. This inplace method will never work because the intermediate object on which we are setting values always behaves as a copy.\n",
      "\n",
      "For example, when doing 'df[col].method(value, inplace=True)', try using 'df.method({col: value}, inplace=True)' or df[col] = df[col].method(value) instead, to perform the operation inplace on the original object.\n",
      "\n",
      "\n",
      "  test['배아 생성 주요 이유'].fillna(most_frequent_value_test, inplace=True)\n"
     ]
    }
   ],
   "source": [
    "# 최빈값 계산\n",
    "most_frequent_value_train = train['배아 생성 주요 이유'].mode()[0]\n",
    "most_frequent_value_test = test['배아 생성 주요 이유'].mode()[0]  # 테스트셋에서도 따로 구할 수 있음\n",
    "\n",
    "# 결측치 채우기 (최빈값 사용)\n",
    "train['배아 생성 주요 이유'].fillna(most_frequent_value_train, inplace=True)\n",
    "test['배아 생성 주요 이유'].fillna(most_frequent_value_test, inplace=True)\n",
    "\n",
    "# ✅ 결과 확인\n",
    "print(\"결측치 개수 (train):\", train['배아 생성 주요 이유'].isna().sum())\n",
    "print(\"결측치 개수 (test):\", test['배아 생성 주요 이유'].isna().sum())\n",
    "print(\"최빈값 (train):\", most_frequent_value_train)\n",
    "print(\"최빈값 (test):\", most_frequent_value_test)\n"
   ]
  },
  {
   "cell_type": "code",
   "execution_count": 219,
   "metadata": {},
   "outputs": [
    {
     "name": "stdout",
     "output_type": "stream",
     "text": [
      "  시술 시기 코드 시술 당시 나이 시술 유형 특정 시술 유형  배란 자극 여부  단일 배아 이식 여부  착상 전 유전 진단 사용 여부  \\\n",
      "0   TRZKPL  만18-34세   IVF     ICSI         1          0.0               0.0   \n",
      "1   TRYBLT  만45-50세   IVF     ICSI         0          0.0               0.0   \n",
      "2   TRVNRY  만18-34세   IVF      IVF         1          0.0               0.0   \n",
      "3   TRJXFG  만35-37세   IVF     ICSI         1          0.0               0.0   \n",
      "4   TRVNRY  만18-34세   IVF     ICSI         1          0.0               0.0   \n",
      "\n",
      "   남성 주 불임 원인  남성 부 불임 원인  여성 주 불임 원인  ...  시술 당시 나이2  age_squared  \\\n",
      "0           0           0           0  ...       26.0       676.00   \n",
      "1           0           0           0  ...       47.5      2256.25   \n",
      "2           0           0           0  ...       26.0       676.00   \n",
      "3           0           0           0  ...       36.0      1296.00   \n",
      "4           0           0           0  ...       26.0       676.00   \n",
      "\n",
      "    age_cubed  30대 이상    새로운_시술  난자 저장용  연구용  배아 저장용  현재 시술용  기증용  \n",
      "0   17576.000       0  IVF_ICSI       0    0       0       1    0  \n",
      "1  107171.875       1  IVF_ICSI       0    0       0       1    0  \n",
      "2   17576.000       0   IVF_IVF       0    0       0       1    0  \n",
      "3   46656.000       1  IVF_ICSI       0    0       0       1    0  \n",
      "4   17576.000       0  IVF_ICSI       0    0       0       1    0  \n",
      "\n",
      "[5 rows x 70 columns]\n",
      "  시술 시기 코드 시술 당시 나이 시술 유형 특정 시술 유형  배란 자극 여부  단일 배아 이식 여부  착상 전 유전 진단 사용 여부  \\\n",
      "0   TRYBLT  만35-37세   IVF      IVF         1          0.0               0.0   \n",
      "1   TRDQAZ  만18-34세   IVF      IVF         1          0.0               0.0   \n",
      "2   TRCMWS  만40-42세   IVF     ICSI         1          0.0               0.0   \n",
      "3   TRJXFG  만40-42세   IVF     ICSI         1          0.0               0.0   \n",
      "4   TRJXFG  만35-37세   IVF     ICSI         1          0.0               0.0   \n",
      "\n",
      "   남성 주 불임 원인  남성 부 불임 원인  여성 주 불임 원인  ...  시술 당시 나이2  age_squared  age_cubed  \\\n",
      "0           0           0           0  ...       36.0       1296.0    46656.0   \n",
      "1           0           0           0  ...       26.0        676.0    17576.0   \n",
      "2           0           0           0  ...       41.0       1681.0    68921.0   \n",
      "3           0           0           0  ...       41.0       1681.0    68921.0   \n",
      "4           0           0           0  ...       36.0       1296.0    46656.0   \n",
      "\n",
      "   30대 이상    새로운_시술  난자 저장용  연구용  배아 저장용  현재 시술용  기증용  \n",
      "0       1   IVF_IVF       0    0       0       1    0  \n",
      "1       0   IVF_IVF       0    0       0       1    0  \n",
      "2       1  IVF_ICSI       0    0       0       1    0  \n",
      "3       1  IVF_ICSI       0    0       0       1    0  \n",
      "4       1  IVF_ICSI       0    0       0       1    0  \n",
      "\n",
      "[5 rows x 69 columns]\n"
     ]
    }
   ],
   "source": [
    "\n",
    "\n",
    "# 1. 쉼표 기준으로 나누기 → NaN 값은 빈 리스트로 처리\n",
    "train['배아 생성 주요 이유'] = train['배아 생성 주요 이유'].fillna(\"\").str.split(', ')\n",
    "test['배아 생성 주요 이유'] = test['배아 생성 주요 이유'].fillna(\"\").str.split(', ')\n",
    "\n",
    "# 2. 모든 유니크한 라벨을 찾기 (NaN 방지)\n",
    "unique_labels = set(label for sublist in train['배아 생성 주요 이유'] if isinstance(sublist, list) for label in sublist)\n",
    "unique_labels.update(set(label for sublist in test['배아 생성 주요 이유'] if isinstance(sublist, list) for label in sublist))\n",
    "\n",
    "# 3. 각 라벨별 새로운 컬럼을 생성하고 0/1 값 할당\n",
    "for label in unique_labels:\n",
    "    train[label] = train['배아 생성 주요 이유'].apply(lambda x: 1 if isinstance(x, list) and label in x else 0)\n",
    "    test[label] = test['배아 생성 주요 이유'].apply(lambda x: 1 if isinstance(x, list) and label in x else 0)\n",
    "\n",
    "# 4. 원본 컬럼 삭제\n",
    "train.drop(columns=['배아 생성 주요 이유'], inplace=True)\n",
    "test.drop(columns=['배아 생성 주요 이유'], inplace=True)\n",
    "\n",
    "# ✅ 결과 확인\n",
    "print(train.head(5))\n",
    "print(test.head(5))\n",
    "\n"
   ]
  },
  {
   "cell_type": "markdown",
   "metadata": {},
   "source": [
    "# X,y 설정"
   ]
  },
  {
   "cell_type": "code",
   "execution_count": 220,
   "metadata": {},
   "outputs": [
    {
     "data": {
      "text/html": [
       "<div>\n",
       "<style scoped>\n",
       "    .dataframe tbody tr th:only-of-type {\n",
       "        vertical-align: middle;\n",
       "    }\n",
       "\n",
       "    .dataframe tbody tr th {\n",
       "        vertical-align: top;\n",
       "    }\n",
       "\n",
       "    .dataframe thead th {\n",
       "        text-align: right;\n",
       "    }\n",
       "</style>\n",
       "<table border=\"1\" class=\"dataframe\">\n",
       "  <thead>\n",
       "    <tr style=\"text-align: right;\">\n",
       "      <th></th>\n",
       "      <th>시술 시기 코드</th>\n",
       "      <th>시술 당시 나이</th>\n",
       "      <th>시술 유형</th>\n",
       "      <th>특정 시술 유형</th>\n",
       "      <th>배란 자극 여부</th>\n",
       "      <th>단일 배아 이식 여부</th>\n",
       "      <th>착상 전 유전 진단 사용 여부</th>\n",
       "      <th>남성 주 불임 원인</th>\n",
       "      <th>남성 부 불임 원인</th>\n",
       "      <th>여성 주 불임 원인</th>\n",
       "      <th>...</th>\n",
       "      <th>시술 당시 나이2</th>\n",
       "      <th>age_squared</th>\n",
       "      <th>age_cubed</th>\n",
       "      <th>30대 이상</th>\n",
       "      <th>새로운_시술</th>\n",
       "      <th>난자 저장용</th>\n",
       "      <th>연구용</th>\n",
       "      <th>배아 저장용</th>\n",
       "      <th>현재 시술용</th>\n",
       "      <th>기증용</th>\n",
       "    </tr>\n",
       "  </thead>\n",
       "  <tbody>\n",
       "    <tr>\n",
       "      <th>0</th>\n",
       "      <td>TRZKPL</td>\n",
       "      <td>만18-34세</td>\n",
       "      <td>IVF</td>\n",
       "      <td>ICSI</td>\n",
       "      <td>1</td>\n",
       "      <td>0.0</td>\n",
       "      <td>0.0</td>\n",
       "      <td>0</td>\n",
       "      <td>0</td>\n",
       "      <td>0</td>\n",
       "      <td>...</td>\n",
       "      <td>26.0</td>\n",
       "      <td>676.00</td>\n",
       "      <td>17576.000</td>\n",
       "      <td>0</td>\n",
       "      <td>IVF_ICSI</td>\n",
       "      <td>0</td>\n",
       "      <td>0</td>\n",
       "      <td>0</td>\n",
       "      <td>1</td>\n",
       "      <td>0</td>\n",
       "    </tr>\n",
       "    <tr>\n",
       "      <th>1</th>\n",
       "      <td>TRYBLT</td>\n",
       "      <td>만45-50세</td>\n",
       "      <td>IVF</td>\n",
       "      <td>ICSI</td>\n",
       "      <td>0</td>\n",
       "      <td>0.0</td>\n",
       "      <td>0.0</td>\n",
       "      <td>0</td>\n",
       "      <td>0</td>\n",
       "      <td>0</td>\n",
       "      <td>...</td>\n",
       "      <td>47.5</td>\n",
       "      <td>2256.25</td>\n",
       "      <td>107171.875</td>\n",
       "      <td>1</td>\n",
       "      <td>IVF_ICSI</td>\n",
       "      <td>0</td>\n",
       "      <td>0</td>\n",
       "      <td>0</td>\n",
       "      <td>1</td>\n",
       "      <td>0</td>\n",
       "    </tr>\n",
       "    <tr>\n",
       "      <th>2</th>\n",
       "      <td>TRVNRY</td>\n",
       "      <td>만18-34세</td>\n",
       "      <td>IVF</td>\n",
       "      <td>IVF</td>\n",
       "      <td>1</td>\n",
       "      <td>0.0</td>\n",
       "      <td>0.0</td>\n",
       "      <td>0</td>\n",
       "      <td>0</td>\n",
       "      <td>0</td>\n",
       "      <td>...</td>\n",
       "      <td>26.0</td>\n",
       "      <td>676.00</td>\n",
       "      <td>17576.000</td>\n",
       "      <td>0</td>\n",
       "      <td>IVF_IVF</td>\n",
       "      <td>0</td>\n",
       "      <td>0</td>\n",
       "      <td>0</td>\n",
       "      <td>1</td>\n",
       "      <td>0</td>\n",
       "    </tr>\n",
       "  </tbody>\n",
       "</table>\n",
       "<p>3 rows × 69 columns</p>\n",
       "</div>"
      ],
      "text/plain": [
       "  시술 시기 코드 시술 당시 나이 시술 유형 특정 시술 유형  배란 자극 여부  단일 배아 이식 여부  착상 전 유전 진단 사용 여부  \\\n",
       "0   TRZKPL  만18-34세   IVF     ICSI         1          0.0               0.0   \n",
       "1   TRYBLT  만45-50세   IVF     ICSI         0          0.0               0.0   \n",
       "2   TRVNRY  만18-34세   IVF      IVF         1          0.0               0.0   \n",
       "\n",
       "   남성 주 불임 원인  남성 부 불임 원인  여성 주 불임 원인  ...  시술 당시 나이2  age_squared  \\\n",
       "0           0           0           0  ...       26.0       676.00   \n",
       "1           0           0           0  ...       47.5      2256.25   \n",
       "2           0           0           0  ...       26.0       676.00   \n",
       "\n",
       "    age_cubed  30대 이상    새로운_시술  난자 저장용  연구용  배아 저장용  현재 시술용  기증용  \n",
       "0   17576.000       0  IVF_ICSI       0    0       0       1    0  \n",
       "1  107171.875       1  IVF_ICSI       0    0       0       1    0  \n",
       "2   17576.000       0   IVF_IVF       0    0       0       1    0  \n",
       "\n",
       "[3 rows x 69 columns]"
      ]
     },
     "execution_count": 220,
     "metadata": {},
     "output_type": "execute_result"
    }
   ],
   "source": [
    "X = train.drop('임신 성공 여부', axis=1)\n",
    "y = train['임신 성공 여부']\n",
    "\n",
    "X.head(3)\n"
   ]
  },
  {
   "cell_type": "code",
   "execution_count": 221,
   "metadata": {},
   "outputs": [],
   "source": [
    "#Data Pre-processing\n",
    "categorical_columns = [\n",
    "    \"시술 시기 코드\",\n",
    "    \"시술 당시 나이\",\n",
    "    \"시술 유형\",\n",
    "    \"특정 시술 유형\",\n",
    "    \"배란 자극 여부\",\n",
    "    \n",
    "    \"단일 배아 이식 여부\",\n",
    "    \n",
    "    \"착상 전 유전 진단 사용 여부\",\n",
    "    \"남성 주 불임 원인\",\n",
    "    \"남성 부 불임 원인\",\n",
    "    \"여성 주 불임 원인\",\n",
    "    \"여성 부 불임 원인\",\n",
    "    \"부부 주 불임 원인\",\n",
    "    \"부부 부 불임 원인\",\n",
    "    \"불명확 불임 원인\",\n",
    "    \"불임 원인 - 난관 질환\",\n",
    "    \"불임 원인 - 남성 요인\",\n",
    "    \"불임 원인 - 배란 장애\",\n",
    "    \"불임 원인 - 여성 요인\",\n",
    "    \"불임 원인 - 자궁경부 문제\",\n",
    "    \"불임 원인 - 자궁내막증\",\n",
    "    \"불임 원인 - 정자 농도\",\n",
    "    \"불임 원인 - 정자 면역학적 요인\",\n",
    "    \"불임 원인 - 정자 운동성\",\n",
    "    \"불임 원인 - 정자 형태\",\n",
    "    \n",
    "\n",
    "    \"난자 출처\",\n",
    "    \"정자 출처\",\n",
    "    \"난자 기증자 나이\",\n",
    "    \"정자 기증자 나이\",\n",
    "    \"동결 배아 사용 여부\",\n",
    "    \"신선 배아 사용 여부\",\n",
    "    \"기증 배아 사용 여부\",\n",
    "    \"대리모 여부\",\n",
    "    \n",
    "    \"30대 이상\",\n",
    "    \"새로운_시술\",\n",
    "    \n",
    "    \"기증용\",  \"현재 시술용\",  \"배아 저장용\",  \"난자 저장용\",  \"연구용\"\n",
    "    \n",
    "    \n",
    "    \n",
    "]\n"
   ]
  },
  {
   "cell_type": "code",
   "execution_count": 222,
   "metadata": {},
   "outputs": [],
   "source": [
    "#Category -> String\n",
    "for col in categorical_columns:\n",
    "    X[col] = X[col].astype(str)\n",
    "    test[col] = test[col].astype(str)\n",
    "\n",
    "ordinal_encoder = OrdinalEncoder(handle_unknown='use_encoded_value', unknown_value=-1)\n",
    "\n",
    "X_train_encoded = X.copy()\n",
    "X_train_encoded[categorical_columns] = ordinal_encoder.fit_transform(X[categorical_columns])\n",
    "\n",
    "X_test_encoded = test.copy()\n",
    "X_test_encoded[categorical_columns] = ordinal_encoder.transform(test[categorical_columns])"
   ]
  },
  {
   "cell_type": "code",
   "execution_count": 223,
   "metadata": {},
   "outputs": [],
   "source": [
    "numeric_columns = [\n",
    "    \n",
    "    \"총 생성 배아 수\",\n",
    "    \"미세주입된 난자 수\",\n",
    "    \"미세주입에서 생성된 배아 수\",\n",
    "    \"이식된 배아 수\",\n",
    "    \"미세주입 배아 이식 수\",\n",
    "    \"저장된 배아 수\",\n",
    "    \"미세주입 후 저장된 배아 수\",\n",
    "    \"해동된 배아 수\",\n",
    "    \"해동 난자 수\",\n",
    "    \"수집된 신선 난자 수\",\n",
    "    \"저장된 신선 난자 수\",\n",
    "    \"혼합된 난자 수\",\n",
    "    \"파트너 정자와 혼합된 난자 수\",\n",
    "    \"기증자 정자와 혼합된 난자 수\",\n",
    "    \"난자 채취 경과일\",\n",
    "    \n",
    "    \"난자 혼합 경과일\",\n",
    "    \"배아 이식 경과일\",\n",
    "    \n",
    "\n",
    "    \"시술 당시 나이2\",\n",
    "    \"age_squared\",\n",
    "    \"age_cubed\",\n",
    "\n",
    "    \"총 시술 횟수\",\n",
    "    \"클리닉 내 총 시술 횟수\",\n",
    "    \"IVF 시술 횟수\",\n",
    "    \"DI 시술 횟수\",\n",
    "    \"총 임신 횟수\",\n",
    "    \"IVF 임신 횟수\",\n",
    "    \"DI 임신 횟수\",\n",
    "    \"총 출산 횟수\",\n",
    "    \"IVF 출산 횟수\",\n",
    "    \"DI 출산 횟수\"\n",
    "   \n",
    "    \n",
    "    \n",
    "]\n",
    "\n",
    "X_train_encoded[numeric_columns] = X_train_encoded[numeric_columns].fillna(0)\n",
    "X_test_encoded[numeric_columns] = X_test_encoded[numeric_columns].fillna(0)"
   ]
  },
  {
   "cell_type": "markdown",
   "metadata": {},
   "source": [
    "# 정규화"
   ]
  },
  {
   "cell_type": "code",
   "execution_count": 224,
   "metadata": {},
   "outputs": [],
   "source": [
    "from sklearn.preprocessing import StandardScaler\n",
    "\n",
    "scaler = StandardScaler()\n",
    "\n",
    "# 학습 데이터에 fit 후 transform 적용\n",
    "X_train_encoded[numeric_columns] = scaler.fit_transform(X_train_encoded[numeric_columns])\n",
    "\n",
    "# 테스트 데이터에는 transform만 적용 (fit X)\n",
    "X_test_encoded[numeric_columns] = scaler.transform(X_test_encoded[numeric_columns])\n"
   ]
  },
  {
   "cell_type": "code",
   "execution_count": 225,
   "metadata": {},
   "outputs": [],
   "source": [
    "\n",
    "\n",
    "# Train-Test Split \n",
    "X_train, X_val, y_train, y_val = train_test_split(\n",
    "    X_train_encoded, y, test_size=0.2, random_state=42, stratify=y\n",
    ")\n",
    "#모델에 입력할 수 있도록 pytorch 텐서로 변환\n",
    "X_train_tensor = torch.tensor(X_train.values, dtype=torch.float32)\n",
    "y_train_tensor = torch.tensor(y_train, dtype=torch.float32).unsqueeze(1)\n",
    "X_val_tensor = torch.tensor(X_val.values, dtype=torch.float32)\n",
    "\n",
    "y_val_tensor = torch.tensor(y_val.values, dtype=torch.float32).unsqueeze(1)\n",
    "# 데이터 로더\n",
    "batch_size = 64\n",
    "train_dataset = TensorDataset(X_train_tensor, y_train_tensor)\n",
    "train_loader = DataLoader(train_dataset, batch_size=batch_size, shuffle=True)\n"
   ]
  },
  {
   "cell_type": "code",
   "execution_count": 226,
   "metadata": {},
   "outputs": [],
   "source": [
    "import time\n",
    "from tqdm import tqdm\n",
    "from sklearn.ensemble import StackingClassifier, AdaBoostClassifier, RandomForestClassifier\n",
    "from sklearn.linear_model import SGDClassifier\n",
    "from sklearn.svm import SVC\n",
    "from sklearn.neighbors import KNeighborsClassifier\n",
    "from xgboost import XGBClassifier\n",
    "from lightgbm import LGBMClassifier\n",
    "from sklearn.naive_bayes import BernoulliNB\n",
    "from sklearn.metrics import accuracy_score, roc_auc_score\n",
    "from joblib import Parallel, delayed"
   ]
  },
  {
   "cell_type": "code",
   "execution_count": 227,
   "metadata": {},
   "outputs": [],
   "source": [
    "import time\n",
    "from tqdm import tqdm\n",
    "from sklearn.ensemble import BaggingClassifier, GradientBoostingClassifier, RandomForestClassifier, VotingClassifier\n",
    "from sklearn.tree import DecisionTreeClassifier\n",
    "from sklearn.linear_model import RidgeClassifier, RidgeClassifierCV\n",
    "from xgboost import XGBClassifier\n",
    "from lightgbm import LGBMClassifier\n",
    "from sklearn.svm import SVC\n",
    "from sklearn.metrics import accuracy_score, roc_auc_score"
   ]
  },
  {
   "cell_type": "code",
   "execution_count": 228,
   "metadata": {},
   "outputs": [
    {
     "name": "stdout",
     "output_type": "stream",
     "text": [
      "[LightGBM] [Warning] Found whitespace in feature_names, replace with underlines\n",
      "[LightGBM] [Info] Number of positive: 52982, number of negative: 152098\n",
      "[LightGBM] [Info] Auto-choosing row-wise multi-threading, the overhead of testing was 0.034717 seconds.\n",
      "You can set `force_row_wise=true` to remove the overhead.\n",
      "And if memory is not enough, you can set `force_col_wise=true`.\n",
      "[LightGBM] [Info] Total Bins 753\n",
      "[LightGBM] [Info] Number of data points in the train set: 205080, number of used features: 64\n",
      "[LightGBM] [Info] [binary:BoostFromScore]: pavg=0.258348 -> initscore=-1.054573\n",
      "[LightGBM] [Info] Start training from score -1.054573\n",
      "[LightGBM] [Warning] Found whitespace in feature_names, replace with underlines\n",
      "[LightGBM] [Info] Number of positive: 52982, number of negative: 152098\n",
      "[LightGBM] [Info] Auto-choosing row-wise multi-threading, the overhead of testing was 0.036911 seconds.\n",
      "You can set `force_row_wise=true` to remove the overhead.\n",
      "And if memory is not enough, you can set `force_col_wise=true`.\n",
      "[LightGBM] [Info] Total Bins 753\n",
      "[LightGBM] [Info] Number of data points in the train set: 205080, number of used features: 64\n",
      "[LightGBM] [Info] [binary:BoostFromScore]: pavg=0.258348 -> initscore=-1.054573\n",
      "[LightGBM] [Info] Start training from score -1.054573\n",
      "[LightGBM] [Warning] Found whitespace in feature_names, replace with underlines\n",
      "[LightGBM] [Info] Number of positive: 35321, number of negative: 101399\n",
      "[LightGBM] [Info] Auto-choosing row-wise multi-threading, the overhead of testing was 0.021681 seconds.\n",
      "You can set `force_row_wise=true` to remove the overhead.\n",
      "And if memory is not enough, you can set `force_col_wise=true`.\n",
      "[LightGBM] [Info] Total Bins 729\n",
      "[LightGBM] [Info] Number of data points in the train set: 136720, number of used features: 64\n",
      "[LightGBM] [Info] [binary:BoostFromScore]: pavg=0.258346 -> initscore=-1.054586\n",
      "[LightGBM] [Info] Start training from score -1.054586\n",
      "[LightGBM] [Warning] Found whitespace in feature_names, replace with underlines\n",
      "[LightGBM] [Info] Number of positive: 35321, number of negative: 101399\n",
      "[LightGBM] [Info] Auto-choosing row-wise multi-threading, the overhead of testing was 0.024149 seconds.\n",
      "You can set `force_row_wise=true` to remove the overhead.\n",
      "And if memory is not enough, you can set `force_col_wise=true`.\n",
      "[LightGBM] [Info] Total Bins 728\n",
      "[LightGBM] [Info] Number of data points in the train set: 136720, number of used features: 64\n",
      "[LightGBM] [Info] [binary:BoostFromScore]: pavg=0.258346 -> initscore=-1.054586\n",
      "[LightGBM] [Info] Start training from score -1.054586\n",
      "[LightGBM] [Warning] Found whitespace in feature_names, replace with underlines\n",
      "[LightGBM] [Info] Number of positive: 35322, number of negative: 101398\n",
      "[LightGBM] [Info] Auto-choosing row-wise multi-threading, the overhead of testing was 0.022833 seconds.\n",
      "You can set `force_row_wise=true` to remove the overhead.\n",
      "And if memory is not enough, you can set `force_col_wise=true`.\n",
      "[LightGBM] [Info] Total Bins 725\n",
      "[LightGBM] [Info] Number of data points in the train set: 136720, number of used features: 64\n",
      "[LightGBM] [Info] [binary:BoostFromScore]: pavg=0.258353 -> initscore=-1.054547\n",
      "[LightGBM] [Info] Start training from score -1.054547\n",
      "[LightGBM] [Warning] Found whitespace in feature_names, replace with underlines\n",
      "[LightGBM] [Info] Number of positive: 35321, number of negative: 101399\n",
      "[LightGBM] [Info] Auto-choosing row-wise multi-threading, the overhead of testing was 0.022633 seconds.\n",
      "You can set `force_row_wise=true` to remove the overhead.\n",
      "And if memory is not enough, you can set `force_col_wise=true`.\n",
      "[LightGBM] [Info] Total Bins 729\n",
      "[LightGBM] [Info] Number of data points in the train set: 136720, number of used features: 64\n",
      "[LightGBM] [Info] [binary:BoostFromScore]: pavg=0.258346 -> initscore=-1.054586\n",
      "[LightGBM] [Info] Start training from score -1.054586\n",
      "[LightGBM] [Warning] Found whitespace in feature_names, replace with underlines\n",
      "[LightGBM] [Info] Number of positive: 35321, number of negative: 101399\n",
      "[LightGBM] [Info] Auto-choosing row-wise multi-threading, the overhead of testing was 0.024043 seconds.\n",
      "You can set `force_row_wise=true` to remove the overhead.\n",
      "And if memory is not enough, you can set `force_col_wise=true`.\n",
      "[LightGBM] [Info] Total Bins 728\n",
      "[LightGBM] [Info] Number of data points in the train set: 136720, number of used features: 64\n",
      "[LightGBM] [Info] [binary:BoostFromScore]: pavg=0.258346 -> initscore=-1.054586\n",
      "[LightGBM] [Info] Start training from score -1.054586\n",
      "[LightGBM] [Warning] Found whitespace in feature_names, replace with underlines\n",
      "[LightGBM] [Info] Number of positive: 35322, number of negative: 101398\n",
      "[LightGBM] [Info] Auto-choosing row-wise multi-threading, the overhead of testing was 0.021731 seconds.\n",
      "You can set `force_row_wise=true` to remove the overhead.\n",
      "And if memory is not enough, you can set `force_col_wise=true`.\n",
      "[LightGBM] [Info] Total Bins 725\n",
      "[LightGBM] [Info] Number of data points in the train set: 136720, number of used features: 64\n",
      "[LightGBM] [Info] [binary:BoostFromScore]: pavg=0.258353 -> initscore=-1.054547\n",
      "[LightGBM] [Info] Start training from score -1.054547\n"
     ]
    }
   ],
   "source": [
    "\n",
    "from sklearn.ensemble import RandomForestClassifier, GradientBoostingClassifier, ExtraTreesClassifier\n",
    "\n",
    "from sklearn.ensemble import StackingClassifier\n",
    "\n",
    "estimators = [\n",
    "\n",
    "('gb', GradientBoostingClassifier(n_estimators = 10)),\n",
    "\n",
    "(\"lgbm\", LGBMClassifier(random_state=42)),\n",
    "(\"xgb\", XGBClassifier(random_state=42)),\n",
    "\n",
    "(\"lgbm2\", LGBMClassifier(n_estimators=80, random_state=42)),\n",
    "\n",
    "(\"ada\", AdaBoostClassifier(random_state=42))\n",
    "\n",
    "\n",
    "]\n",
    "\n",
    "\n",
    "meta_model = XGBClassifier(n_estimators = 10, random_state = 42) \n",
    "\n",
    "\n",
    "stacked_model = StackingClassifier(estimators = estimators,\n",
    "                                  final_estimator = meta_model,\n",
    "                                  cv = 3)\n",
    "\n",
    "\n",
    "\n",
    "# train_x, train_y는 전체 train 데이터를 의미합니다.\n",
    "stacked_model.fit(X_train, y_train)\n",
    "stack_pred = stacked_model.predict(X_test_encoded)\n",
    "\n"
   ]
  },
  {
   "cell_type": "code",
   "execution_count": 229,
   "metadata": {},
   "outputs": [],
   "source": [
    "# 확률 예측 (roc_auc_score용)\n",
    "stack_probs = stacked_model.predict_proba(X_test_encoded)[:, 1]\n",
    "\n"
   ]
  },
  {
   "cell_type": "code",
   "execution_count": 230,
   "metadata": {},
   "outputs": [
    {
     "name": "stdout",
     "output_type": "stream",
     "text": [
      "Validation Accuracy: 0.7445924596750599\n",
      "Validation ROC AUC: 0.7357489614172037\n"
     ]
    }
   ],
   "source": [
    "from sklearn.metrics import accuracy_score, roc_auc_score\n",
    "\n",
    "# 검증 세트 예측\n",
    "stack_val_pred = stacked_model.predict(X_val)\n",
    "\n",
    "# 검증 세트 예측 확률 (양성 클래스에 대한 확률)\n",
    "stack_val_prob = stacked_model.predict_proba(X_val)[:, 1]\n",
    "\n",
    "# 정확도 계산\n",
    "val_accuracy = accuracy_score(y_val, stack_val_pred)\n",
    "print(\"Validation Accuracy:\", val_accuracy)\n",
    "\n",
    "# ROC AUC 계산\n",
    "val_roc_auc = roc_auc_score(y_val, stack_val_prob)\n",
    "print(\"Validation ROC AUC:\", val_roc_auc)\n"
   ]
  },
  {
   "cell_type": "code",
   "execution_count": 231,
   "metadata": {},
   "outputs": [],
   "source": [
    "sample_submission = pd.read_csv('C://Projects//2025_2//LG_aimers//original_data//sample_submission.csv')\n",
    "sample_submission['probability'] = stack_probs\n",
    "sample_submission.to_csv('C://Projects//2025_2//LG_aimers//original_data//result_15.999_스태킹_boost.csv', index=False)"
   ]
  },
  {
   "cell_type": "code",
   "execution_count": null,
   "metadata": {},
   "outputs": [],
   "source": []
  }
 ],
 "metadata": {
  "kernelspec": {
   "display_name": "base",
   "language": "python",
   "name": "python3"
  },
  "language_info": {
   "codemirror_mode": {
    "name": "ipython",
    "version": 3
   },
   "file_extension": ".py",
   "mimetype": "text/x-python",
   "name": "python",
   "nbconvert_exporter": "python",
   "pygments_lexer": "ipython3",
   "version": "3.12.7"
  }
 },
 "nbformat": 4,
 "nbformat_minor": 2
}
